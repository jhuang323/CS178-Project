{
  "cells": [
    {
      "cell_type": "code",
      "execution_count": 1,
      "id": "v-uX77WLR9Gp",
      "metadata": {
        "colab": {
          "base_uri": "https://localhost:8080/"
        },
        "id": "v-uX77WLR9Gp",
        "outputId": "b55cc07c-d957-4005-dfe4-00772095c3cd"
      },
      "outputs": [
        {
          "name": "stdout",
          "output_type": "stream",
          "text": [
            "Drive already mounted at /content/drive; to attempt to forcibly remount, call drive.mount(\"/content/drive\", force_remount=True).\n"
          ]
        }
      ],
      "source": [
        "# from google.colab import drive\n",
        "# drive.mount('/content/drive')\n",
        "# from google.colab import files"
      ]
    },
    {
      "cell_type": "code",
      "execution_count": 2,
      "id": "fgcwO-gTS9LJ",
      "metadata": {
        "colab": {
          "base_uri": "https://localhost:8080/",
          "height": 852
        },
        "id": "fgcwO-gTS9LJ",
        "outputId": "ed4d3477-202d-4cdc-fbe3-9009125ce1b8"
      },
      "outputs": [
        {
          "data": {
            "text/html": [
              "\n",
              "     <input type=\"file\" id=\"files-329cf82f-a3c7-430e-a81a-6939e83ba0d5\" name=\"files[]\" multiple disabled\n",
              "        style=\"border:none\" />\n",
              "     <output id=\"result-329cf82f-a3c7-430e-a81a-6939e83ba0d5\">\n",
              "      Upload widget is only available when the cell has been executed in the\n",
              "      current browser session. Please rerun this cell to enable.\n",
              "      </output>\n",
              "      <script>// Copyright 2017 Google LLC\n",
              "//\n",
              "// Licensed under the Apache License, Version 2.0 (the \"License\");\n",
              "// you may not use this file except in compliance with the License.\n",
              "// You may obtain a copy of the License at\n",
              "//\n",
              "//      http://www.apache.org/licenses/LICENSE-2.0\n",
              "//\n",
              "// Unless required by applicable law or agreed to in writing, software\n",
              "// distributed under the License is distributed on an \"AS IS\" BASIS,\n",
              "// WITHOUT WARRANTIES OR CONDITIONS OF ANY KIND, either express or implied.\n",
              "// See the License for the specific language governing permissions and\n",
              "// limitations under the License.\n",
              "\n",
              "/**\n",
              " * @fileoverview Helpers for google.colab Python module.\n",
              " */\n",
              "(function(scope) {\n",
              "function span(text, styleAttributes = {}) {\n",
              "  const element = document.createElement('span');\n",
              "  element.textContent = text;\n",
              "  for (const key of Object.keys(styleAttributes)) {\n",
              "    element.style[key] = styleAttributes[key];\n",
              "  }\n",
              "  return element;\n",
              "}\n",
              "\n",
              "// Max number of bytes which will be uploaded at a time.\n",
              "const MAX_PAYLOAD_SIZE = 100 * 1024;\n",
              "\n",
              "function _uploadFiles(inputId, outputId) {\n",
              "  const steps = uploadFilesStep(inputId, outputId);\n",
              "  const outputElement = document.getElementById(outputId);\n",
              "  // Cache steps on the outputElement to make it available for the next call\n",
              "  // to uploadFilesContinue from Python.\n",
              "  outputElement.steps = steps;\n",
              "\n",
              "  return _uploadFilesContinue(outputId);\n",
              "}\n",
              "\n",
              "// This is roughly an async generator (not supported in the browser yet),\n",
              "// where there are multiple asynchronous steps and the Python side is going\n",
              "// to poll for completion of each step.\n",
              "// This uses a Promise to block the python side on completion of each step,\n",
              "// then passes the result of the previous step as the input to the next step.\n",
              "function _uploadFilesContinue(outputId) {\n",
              "  const outputElement = document.getElementById(outputId);\n",
              "  const steps = outputElement.steps;\n",
              "\n",
              "  const next = steps.next(outputElement.lastPromiseValue);\n",
              "  return Promise.resolve(next.value.promise).then((value) => {\n",
              "    // Cache the last promise value to make it available to the next\n",
              "    // step of the generator.\n",
              "    outputElement.lastPromiseValue = value;\n",
              "    return next.value.response;\n",
              "  });\n",
              "}\n",
              "\n",
              "/**\n",
              " * Generator function which is called between each async step of the upload\n",
              " * process.\n",
              " * @param {string} inputId Element ID of the input file picker element.\n",
              " * @param {string} outputId Element ID of the output display.\n",
              " * @return {!Iterable<!Object>} Iterable of next steps.\n",
              " */\n",
              "function* uploadFilesStep(inputId, outputId) {\n",
              "  const inputElement = document.getElementById(inputId);\n",
              "  inputElement.disabled = false;\n",
              "\n",
              "  const outputElement = document.getElementById(outputId);\n",
              "  outputElement.innerHTML = '';\n",
              "\n",
              "  const pickedPromise = new Promise((resolve) => {\n",
              "    inputElement.addEventListener('change', (e) => {\n",
              "      resolve(e.target.files);\n",
              "    });\n",
              "  });\n",
              "\n",
              "  const cancel = document.createElement('button');\n",
              "  inputElement.parentElement.appendChild(cancel);\n",
              "  cancel.textContent = 'Cancel upload';\n",
              "  const cancelPromise = new Promise((resolve) => {\n",
              "    cancel.onclick = () => {\n",
              "      resolve(null);\n",
              "    };\n",
              "  });\n",
              "\n",
              "  // Wait for the user to pick the files.\n",
              "  const files = yield {\n",
              "    promise: Promise.race([pickedPromise, cancelPromise]),\n",
              "    response: {\n",
              "      action: 'starting',\n",
              "    }\n",
              "  };\n",
              "\n",
              "  cancel.remove();\n",
              "\n",
              "  // Disable the input element since further picks are not allowed.\n",
              "  inputElement.disabled = true;\n",
              "\n",
              "  if (!files) {\n",
              "    return {\n",
              "      response: {\n",
              "        action: 'complete',\n",
              "      }\n",
              "    };\n",
              "  }\n",
              "\n",
              "  for (const file of files) {\n",
              "    const li = document.createElement('li');\n",
              "    li.append(span(file.name, {fontWeight: 'bold'}));\n",
              "    li.append(span(\n",
              "        `(${file.type || 'n/a'}) - ${file.size} bytes, ` +\n",
              "        `last modified: ${\n",
              "            file.lastModifiedDate ? file.lastModifiedDate.toLocaleDateString() :\n",
              "                                    'n/a'} - `));\n",
              "    const percent = span('0% done');\n",
              "    li.appendChild(percent);\n",
              "\n",
              "    outputElement.appendChild(li);\n",
              "\n",
              "    const fileDataPromise = new Promise((resolve) => {\n",
              "      const reader = new FileReader();\n",
              "      reader.onload = (e) => {\n",
              "        resolve(e.target.result);\n",
              "      };\n",
              "      reader.readAsArrayBuffer(file);\n",
              "    });\n",
              "    // Wait for the data to be ready.\n",
              "    let fileData = yield {\n",
              "      promise: fileDataPromise,\n",
              "      response: {\n",
              "        action: 'continue',\n",
              "      }\n",
              "    };\n",
              "\n",
              "    // Use a chunked sending to avoid message size limits. See b/62115660.\n",
              "    let position = 0;\n",
              "    do {\n",
              "      const length = Math.min(fileData.byteLength - position, MAX_PAYLOAD_SIZE);\n",
              "      const chunk = new Uint8Array(fileData, position, length);\n",
              "      position += length;\n",
              "\n",
              "      const base64 = btoa(String.fromCharCode.apply(null, chunk));\n",
              "      yield {\n",
              "        response: {\n",
              "          action: 'append',\n",
              "          file: file.name,\n",
              "          data: base64,\n",
              "        },\n",
              "      };\n",
              "\n",
              "      let percentDone = fileData.byteLength === 0 ?\n",
              "          100 :\n",
              "          Math.round((position / fileData.byteLength) * 100);\n",
              "      percent.textContent = `${percentDone}% done`;\n",
              "\n",
              "    } while (position < fileData.byteLength);\n",
              "  }\n",
              "\n",
              "  // All done.\n",
              "  yield {\n",
              "    response: {\n",
              "      action: 'complete',\n",
              "    }\n",
              "  };\n",
              "}\n",
              "\n",
              "scope.google = scope.google || {};\n",
              "scope.google.colab = scope.google.colab || {};\n",
              "scope.google.colab._files = {\n",
              "  _uploadFiles,\n",
              "  _uploadFilesContinue,\n",
              "};\n",
              "})(self);\n",
              "</script> "
            ],
            "text/plain": [
              "<IPython.core.display.HTML object>"
            ]
          },
          "metadata": {},
          "output_type": "display_data"
        },
        {
          "name": "stdout",
          "output_type": "stream",
          "text": [
            "Saving __init__.py to __init__ (1).py\n",
            "Saving argparser.py to argparser (1).py\n",
            "Saving helper.py to helper (1).py\n",
            "Saving mnist_reader.py to mnist_reader (1).py\n"
          ]
        },
        {
          "data": {
            "text/plain": [
              "{'__init__ (1).py': b'',\n",
              " 'argparser (1).py': b\"import sys\\nfrom collections import defaultdict\\n\\nfrom typing import Dict, Any, Union\\n\\n\\ndef parse_arg(v: str) -> Union[str, int, float, bool, None]:\\n    try:\\n        v = int(v)  # parse int parameter\\n    except ValueError:\\n        try:\\n            v = float(v)  # parse float parameter\\n        except ValueError:\\n            if len(v) == 0:\\n                # ignore it when the parameter is empty\\n                v = None\\n            elif v.lower() == 'true':  # parse boolean parameter\\n                v = True\\n            elif v.lower() == 'false':\\n                v = False\\n    return v\\n\\n\\ndef get_args_request(args: Dict[str, str]) -> Dict[str, Any]:\\n    return {k: parse_arg(v) for k, v in args.items()}\\n\\n\\ndef get_args_cli() -> Dict[str, Any]:\\n    d = defaultdict(list)\\n    if sys.argv[1:]:\\n        for k, v in ((k.lstrip('-'), v) for k, v in (a.split('=') for a in sys.argv[1:])):\\n            d[k].append(v)\\n        for k, v in d.items():\\n            parsed_v = [s for s in (parse_arg(vv) for vv in v) if s is not None]\\n            if len(parsed_v) > 1:\\n                d[k] = parsed_v\\n            if len(parsed_v) == 1:\\n                d[k] = parsed_v[0]\\n    return d\\n\",\n",
              " 'helper (1).py': b'import os\\nimport subprocess\\nfrom datetime import datetime\\nfrom threading import Thread, Event\\n\\nfrom configs import SYNC_INTERVAL, LOGGER, LOG_PATH, ROOT_DIR, SYNC_TIMEOUT, RESULT_PATH, SYNC_SCRIPT_PATH\\n\\n\\ndef now_int():\\n    epoch = datetime.utcfromtimestamp(0)\\n    return int((datetime.now() - epoch).total_seconds())\\n\\n\\nclass UploadS3Thread(Thread):\\n    def __init__(self, event: Event):\\n        super().__init__()\\n        self.stopped = event\\n\\n    def run(self):\\n        while not self.stopped.wait(SYNC_INTERVAL):\\n            upload_result_s3()\\n\\n\\ndef upload_result_s3():\\n    LOGGER.info(\"Syncing data to S3...\")\\n    with open(LOG_PATH, \\'a\\', 1) as logfile:\\n        proc = subprocess.Popen(\\n            \"bash %s %s\" % (SYNC_SCRIPT_PATH, RESULT_PATH),\\n            shell=True,\\n            stdin=subprocess.PIPE,\\n            stdout=logfile,\\n            stderr=logfile,\\n            cwd=ROOT_DIR,\\n            env=os.environ)\\n\\n        # we have to wait until the training data is downloaded\\n        try:\\n            outs, errs = proc.communicate(timeout=SYNC_TIMEOUT)\\n            if outs:\\n                LOGGER.info(outs)\\n            if errs:\\n                LOGGER.error(errs)\\n        except subprocess.TimeoutExpired:\\n            proc.kill()\\n\\n\\ndef create_sprite_image(images):\\n    import numpy as np\\n    \"\"\"Returns a sprite image consisting of images passed as argument. Images should be count x width x height\"\"\"\\n    if isinstance(images, list):\\n        images = np.array(images)\\n    img_h = images.shape[1]\\n    img_w = images.shape[2]\\n    n_plots = int(np.ceil(np.sqrt(images.shape[0])))\\n\\n    spriteimage = np.ones((img_h * n_plots, img_w * n_plots))\\n\\n    for i in range(n_plots):\\n        for j in range(n_plots):\\n            this_filter = i * n_plots + j\\n            if this_filter < images.shape[0]:\\n                this_img = images[this_filter]\\n                spriteimage[i * img_h:(i + 1) * img_h,\\n                j * img_w:(j + 1) * img_w] = this_img\\n\\n    return spriteimage\\n\\n\\ndef vector_to_matrix_mnist(mnist_digits):\\n    import numpy as np\\n    \"\"\"Reshapes normal mnist digit (batch,28*28) to matrix (batch,28,28)\"\"\"\\n    return np.reshape(mnist_digits, (-1, 28, 28))\\n\\n\\ndef invert_grayscale(mnist_digits):\\n    \"\"\" Makes black white, and white black \"\"\"\\n    return 255 - mnist_digits\\n\\n\\ndef get_sprite_image(to_visualise, do_invert=True):\\n    to_visualise = vector_to_matrix_mnist(to_visualise)\\n    if do_invert:\\n        to_visualise = invert_grayscale(to_visualise)\\n    return create_sprite_image(to_visualise)\\n',\n",
              " 'mnist_reader (1).py': b'def load_mnist(path, kind=\\'train\\'):\\n    import os\\n    import gzip\\n    import numpy as np\\n\\n    \"\"\"Load MNIST data from `path`\"\"\"\\n    labels_path = os.path.join(path,\\n                               \\'%s-labels-idx1-ubyte.gz\\'\\n                               % kind)\\n    images_path = os.path.join(path,\\n                               \\'%s-images-idx3-ubyte.gz\\'\\n                               % kind)\\n\\n    with gzip.open(labels_path, \\'rb\\') as lbpath:\\n        labels = np.frombuffer(lbpath.read(), dtype=np.uint8,\\n                               offset=8)\\n\\n    with gzip.open(images_path, \\'rb\\') as imgpath:\\n        images = np.frombuffer(imgpath.read(), dtype=np.uint8,\\n                               offset=16).reshape(len(labels), 784)\\n\\n    return images, labels\\n'}"
            ]
          },
          "execution_count": 2,
          "metadata": {},
          "output_type": "execute_result"
        }
      ],
      "source": [
        "# files.upload()"
      ]
    },
    {
      "cell_type": "code",
      "execution_count": 3,
      "id": "3e89fa99-4a51-4197-8dba-a660db801875",
      "metadata": {
        "id": "3e89fa99-4a51-4197-8dba-a660db801875",
        "tags": []
      },
      "outputs": [],
      "source": [
        "from utils import mnist_reader\n",
        "import numpy as np\n",
        "import matplotlib.pyplot as plt\n",
        "\n",
        "import pandas as pd\n",
        "from sklearn.linear_model import LogisticRegression\n",
        "#from sklearn.neural_network import MLPClassifier\n",
        "from sklearn.metrics import accuracy_score\n",
        "from sklearn.model_selection import GridSearchCV\n",
        "from sklearn.metrics import accuracy_score, confusion_matrix, ConfusionMatrixDisplay\n",
        "from sklearn.model_selection import train_test_split\n",
        "seed = 1234\n",
        "np.random.seed(seed)"
      ]
    },
    {
      "cell_type": "code",
      "execution_count": 4,
      "id": "12e0624d-78e1-43a9-81c0-0bd759f4e2ed",
      "metadata": {
        "id": "12e0624d-78e1-43a9-81c0-0bd759f4e2ed",
        "tags": []
      },
      "outputs": [],
      "source": [
        "#Documentation located at: https://github.com/zalandoresearch/fashion-mnist\n",
        "X_train, y_train = mnist_reader.load_mnist('data/fashion', kind='train')\n",
        "X_test, y_test = mnist_reader.load_mnist('data/fashion', kind='t10k')"
      ]
    },
    {
      "cell_type": "code",
      "execution_count": 5,
      "id": "mXT1EdLWc0ld",
      "metadata": {
        "id": "mXT1EdLWc0ld"
      },
      "outputs": [],
      "source": [
        "X_tr, X_val, y_tr, y_val = train_test_split(\n",
        "    X_train, y_train, test_size=0.25, random_state=seed, shuffle=True\n",
        ")"
      ]
    },
    {
      "cell_type": "code",
      "execution_count": null,
      "id": "1b40f730-f4f8-44bf-ba72-32c7df7aa7a7",
      "metadata": {
        "id": "1b40f730-f4f8-44bf-ba72-32c7df7aa7a7"
      },
      "outputs": [],
      "source": [
        "# SuperXArr = np.concatenate((X_train, X_test), axis=0)\n",
        "# SuperYArr = np.concatenate((y_train, y_test))"
      ]
    },
    {
      "cell_type": "code",
      "execution_count": 6,
      "id": "ffc77e50-b363-4ec7-b4c2-b3461c8cfb3d",
      "metadata": {
        "colab": {
          "base_uri": "https://localhost:8080/"
        },
        "id": "ffc77e50-b363-4ec7-b4c2-b3461c8cfb3d",
        "outputId": "11bd63eb-ec6d-4e2f-e6e8-33379990ab5e",
        "tags": []
      },
      "outputs": [
        {
          "name": "stdout",
          "output_type": "stream",
          "text": [
            "(60000, 784)\n",
            "(60000,)\n",
            "\n",
            "\n",
            "(45000, 784)\n",
            "(45000,)\n",
            "\n",
            "\n",
            "(15000, 784)\n",
            "(15000,)\n",
            "\n",
            "\n",
            "(10000, 784)\n",
            "(10000,)\n",
            "{0, 1, 2, 3, 4, 5, 6, 7, 8, 9}\n"
          ]
        }
      ],
      "source": [
        "print(X_train.shape)\n",
        "print(y_train.shape)\n",
        "print(\"\\n\")\n",
        "print(X_tr.shape) #75/25 test and valid split\n",
        "print(y_tr.shape)\n",
        "print(\"\\n\")\n",
        "print(X_val.shape)\n",
        "print(y_val.shape)\n",
        "print(\"\\n\")\n",
        "print(X_test.shape) # just test split\n",
        "print(y_test.shape)\n",
        "\n",
        "# print(SuperXArr.shape)\n",
        "\n",
        "print(set(y_train))"
      ]
    },
    {
      "cell_type": "code",
      "execution_count": 7,
      "id": "8becdde9-1bc1-4d48-b881-4b7490c9c2ac",
      "metadata": {
        "colab": {
          "base_uri": "https://localhost:8080/",
          "height": 75
        },
        "id": "8becdde9-1bc1-4d48-b881-4b7490c9c2ac",
        "outputId": "33822276-7f6c-431a-f0e2-54815c0814be"
      },
      "outputs": [
        {
          "data": {
            "text/html": [
              "<style>#sk-container-id-1 {color: black;background-color: white;}#sk-container-id-1 pre{padding: 0;}#sk-container-id-1 div.sk-toggleable {background-color: white;}#sk-container-id-1 label.sk-toggleable__label {cursor: pointer;display: block;width: 100%;margin-bottom: 0;padding: 0.3em;box-sizing: border-box;text-align: center;}#sk-container-id-1 label.sk-toggleable__label-arrow:before {content: \"▸\";float: left;margin-right: 0.25em;color: #696969;}#sk-container-id-1 label.sk-toggleable__label-arrow:hover:before {color: black;}#sk-container-id-1 div.sk-estimator:hover label.sk-toggleable__label-arrow:before {color: black;}#sk-container-id-1 div.sk-toggleable__content {max-height: 0;max-width: 0;overflow: hidden;text-align: left;background-color: #f0f8ff;}#sk-container-id-1 div.sk-toggleable__content pre {margin: 0.2em;color: black;border-radius: 0.25em;background-color: #f0f8ff;}#sk-container-id-1 input.sk-toggleable__control:checked~div.sk-toggleable__content {max-height: 200px;max-width: 100%;overflow: auto;}#sk-container-id-1 input.sk-toggleable__control:checked~label.sk-toggleable__label-arrow:before {content: \"▾\";}#sk-container-id-1 div.sk-estimator input.sk-toggleable__control:checked~label.sk-toggleable__label {background-color: #d4ebff;}#sk-container-id-1 div.sk-label input.sk-toggleable__control:checked~label.sk-toggleable__label {background-color: #d4ebff;}#sk-container-id-1 input.sk-hidden--visually {border: 0;clip: rect(1px 1px 1px 1px);clip: rect(1px, 1px, 1px, 1px);height: 1px;margin: -1px;overflow: hidden;padding: 0;position: absolute;width: 1px;}#sk-container-id-1 div.sk-estimator {font-family: monospace;background-color: #f0f8ff;border: 1px dotted black;border-radius: 0.25em;box-sizing: border-box;margin-bottom: 0.5em;}#sk-container-id-1 div.sk-estimator:hover {background-color: #d4ebff;}#sk-container-id-1 div.sk-parallel-item::after {content: \"\";width: 100%;border-bottom: 1px solid gray;flex-grow: 1;}#sk-container-id-1 div.sk-label:hover label.sk-toggleable__label {background-color: #d4ebff;}#sk-container-id-1 div.sk-serial::before {content: \"\";position: absolute;border-left: 1px solid gray;box-sizing: border-box;top: 0;bottom: 0;left: 50%;z-index: 0;}#sk-container-id-1 div.sk-serial {display: flex;flex-direction: column;align-items: center;background-color: white;padding-right: 0.2em;padding-left: 0.2em;position: relative;}#sk-container-id-1 div.sk-item {position: relative;z-index: 1;}#sk-container-id-1 div.sk-parallel {display: flex;align-items: stretch;justify-content: center;background-color: white;position: relative;}#sk-container-id-1 div.sk-item::before, #sk-container-id-1 div.sk-parallel-item::before {content: \"\";position: absolute;border-left: 1px solid gray;box-sizing: border-box;top: 0;bottom: 0;left: 50%;z-index: -1;}#sk-container-id-1 div.sk-parallel-item {display: flex;flex-direction: column;z-index: 1;position: relative;background-color: white;}#sk-container-id-1 div.sk-parallel-item:first-child::after {align-self: flex-end;width: 50%;}#sk-container-id-1 div.sk-parallel-item:last-child::after {align-self: flex-start;width: 50%;}#sk-container-id-1 div.sk-parallel-item:only-child::after {width: 0;}#sk-container-id-1 div.sk-dashed-wrapped {border: 1px dashed gray;margin: 0 0.4em 0.5em 0.4em;box-sizing: border-box;padding-bottom: 0.4em;background-color: white;}#sk-container-id-1 div.sk-label label {font-family: monospace;font-weight: bold;display: inline-block;line-height: 1.2em;}#sk-container-id-1 div.sk-label-container {text-align: center;}#sk-container-id-1 div.sk-container {/* jupyter's `normalize.less` sets `[hidden] { display: none; }` but bootstrap.min.css set `[hidden] { display: none !important; }` so we also need the `!important` here to be able to override the default hidden behavior on the sphinx rendered scikit-learn.org. See: https://github.com/scikit-learn/scikit-learn/issues/21755 */display: inline-block !important;position: relative;}#sk-container-id-1 div.sk-text-repr-fallback {display: none;}</style><div id=\"sk-container-id-1\" class=\"sk-top-container\"><div class=\"sk-text-repr-fallback\"><pre>LogisticRegression(penalty=&#x27;l1&#x27;, solver=&#x27;liblinear&#x27;)</pre><b>In a Jupyter environment, please rerun this cell to show the HTML representation or trust the notebook. <br />On GitHub, the HTML representation is unable to render, please try loading this page with nbviewer.org.</b></div><div class=\"sk-container\" hidden><div class=\"sk-item\"><div class=\"sk-estimator sk-toggleable\"><input class=\"sk-toggleable__control sk-hidden--visually\" id=\"sk-estimator-id-1\" type=\"checkbox\" checked><label for=\"sk-estimator-id-1\" class=\"sk-toggleable__label sk-toggleable__label-arrow\">LogisticRegression</label><div class=\"sk-toggleable__content\"><pre>LogisticRegression(penalty=&#x27;l1&#x27;, solver=&#x27;liblinear&#x27;)</pre></div></div></div></div></div>"
            ],
            "text/plain": [
              "LogisticRegression(penalty='l1', solver='liblinear')"
            ]
          },
          "execution_count": 7,
          "metadata": {},
          "output_type": "execute_result"
        }
      ],
      "source": [
        "LRModel = LogisticRegression(penalty='l1', solver='liblinear')\n",
        "LRModel.fit(X_tr, y_tr)\n",
        "\n",
        "\n"
      ]
    },
    {
      "cell_type": "code",
      "execution_count": 8,
      "id": "76770b79-548f-428c-bcc8-fc9725cc3a07",
      "metadata": {
        "colab": {
          "base_uri": "https://localhost:8080/",
          "height": 468
        },
        "id": "76770b79-548f-428c-bcc8-fc9725cc3a07",
        "outputId": "4bef0863-899e-4119-a7fe-606e0ef9dbd9"
      },
      "outputs": [
        {
          "name": "stdout",
          "output_type": "stream",
          "text": [
            "First Model Accuracy Train ACC: 0.885 Validation ACC: 0.8416\n"
          ]
        },
        {
          "data": {
            "image/png": "[encoded data removed]",
            "text/plain": [
              "<Figure size 640x480 with 2 Axes>"
            ]
          },
          "metadata": {},
          "output_type": "display_data"
        }
      ],
      "source": [
        "LRModelAccTrain = accuracy_score(LRModel.predict(X_tr),y_tr)\n",
        "LRModelAccValid = accuracy_score(LRModel.predict(X_val),y_val)\n",
        "print(f\"First Model Accuracy Train ACC: {LRModelAccTrain} Validation ACC: {LRModelAccValid}\")\n",
        "\n",
        "# Evaluate confusion matrix using the sklearn function confusion_matrix\n",
        "sklearn_cm = confusion_matrix(y_val, LRModel.predict(X_val))\n",
        "sklearn_disp = ConfusionMatrixDisplay(confusion_matrix = sklearn_cm)\n",
        "sklearn_disp.plot();"
      ]
    },
    {
      "cell_type": "code",
      "execution_count": null,
      "id": "882014b1-1a1f-4a7c-ac31-67d2be870f1b",
      "metadata": {
        "id": "882014b1-1a1f-4a7c-ac31-67d2be870f1b",
        "tags": []
      },
      "outputs": [],
      "source": [
        "# X_train1, y_train1 = mnist_reader.load_mnist('data/fashion', kind='train')\n",
        "# X_test1, y_test1 = mnist_reader.load_mnist('data/fashion', kind='t10k')"
      ]
    },
    {
      "cell_type": "code",
      "execution_count": null,
      "id": "7ae05a09-4606-413c-946a-398374262d9f",
      "metadata": {
        "id": "7ae05a09-4606-413c-946a-398374262d9f",
        "tags": []
      },
      "outputs": [],
      "source": [
        "# print(X_train1.shape)\n",
        "# print(y_train1.shape)\n",
        "\n",
        "# print(X_test1.shape)\n",
        "# print(y_test1.shape)"
      ]
    },
    {
      "cell_type": "code",
      "execution_count": 9,
      "id": "9_zWmCR_Qu09",
      "metadata": {
        "id": "9_zWmCR_Qu09"
      },
      "outputs": [],
      "source": [
        "# penaltyList = ['l1', 'l2']\n",
        "# CList = [1, 10, 100]\n",
        "\n",
        "LRModelList = list()"
      ]
    },
    {
      "cell_type": "code",
      "execution_count": null,
      "id": "d0c710c8-588d-41ba-9b17-9f1ccf8960a1",
      "metadata": {
        "id": "d0c710c8-588d-41ba-9b17-9f1ccf8960a1"
      },
      "outputs": [],
      "source": [
        "# %%capture HUoutput\n",
        "\n",
        "# for potentPenalty in penaltyList:\n",
        "#     print(potentPenalty)\n",
        "#     for potentC in CList:\n",
        "#         tempLRModel = LogisticRegression(\n",
        "#             penalty=potentPenalty, solver='liblinear', C = potentC\n",
        "#         )\n",
        "\n",
        "#         tempLRModel.fit(X_tr,y_tr)\n",
        "\n",
        "#         LRModelList.append(tempLRModel)\n",
        "\n",
        "# print(\"Done training\")"
      ]
    },
    {
      "cell_type": "code",
      "execution_count": null,
      "id": "bTUef65bQzwe",
      "metadata": {
        "id": "bTUef65bQzwe"
      },
      "outputs": [],
      "source": [
        "tempLRModel0 = LogisticRegression(\n",
        "            penalty='l1', solver='liblinear', C = 1\n",
        "        )\n",
        "\n",
        "tempLRModel0.fit(X_tr,y_tr)\n",
        "\n",
        "# LRModelList.append(tempLRModel0)"
      ]
    },
    {
      "cell_type": "code",
      "execution_count": 17,
      "id": "f_koDaxEagft",
      "metadata": {
        "id": "f_koDaxEagft"
      },
      "outputs": [],
      "source": [
        "LRModelList.append(tempLRModel0)"
      ]
    },
    {
      "cell_type": "code",
      "execution_count": 18,
      "id": "u3TaXd7Dg8q_",
      "metadata": {
        "id": "u3TaXd7Dg8q_"
      },
      "outputs": [],
      "source": [
        "tempLRModel1 = LogisticRegression(\n",
        "            penalty='l1', solver='liblinear', C = 10\n",
        "        )\n",
        "\n",
        "tempLRModel1.fit(X_tr,y_tr)\n",
        "\n",
        "# LRModelList.append(tempLRModel1)"
      ]
    },
    {
      "cell_type": "code",
      "execution_count": 19,
      "id": "im0khpm-g8HN",
      "metadata": {
        "id": "im0khpm-g8HN"
      },
      "outputs": [],
      "source": [
        "LRModelList.append(tempLRModel1)"
      ]
    },
    {
      "cell_type": "code",
      "execution_count": 20,
      "id": "0dtmCK5HnuVK",
      "metadata": {
        "id": "0dtmCK5HnuVK"
      },
      "outputs": [],
      "source": [
        "tempLRModel2 = LogisticRegression(\n",
        "            penalty='l1', solver='liblinear', C = 100\n",
        "        )\n",
        "\n",
        "tempLRModel2.fit(X_tr,y_tr)\n",
        "\n",
        "# LRModelList.append(tempLRModel2)"
      ]
    },
    {
      "cell_type": "code",
      "execution_count": 21,
      "id": "xSzIOamhnuvv",
      "metadata": {
        "id": "xSzIOamhnuvv"
      },
      "outputs": [],
      "source": [
        "LRModelList.append(tempLRModel2)"
      ]
    },
    {
      "cell_type": "code",
      "execution_count": null,
      "id": "CUvvSsBKt5Pu",
      "metadata": {
        "id": "CUvvSsBKt5Pu"
      },
      "outputs": [],
      "source": [
        "tempLRModel3 = LogisticRegression(\n",
        "            penalty='l2', solver='liblinear', C = 1\n",
        "        )\n",
        "\n",
        "tempLRModel3.fit(X_tr,y_tr)\n",
        "\n",
        "#LRModelList.append(tempLRModel3)"
      ]
    },
    {
      "cell_type": "code",
      "execution_count": null,
      "id": "1UbD7QHIt4_T",
      "metadata": {
        "id": "1UbD7QHIt4_T"
      },
      "outputs": [],
      "source": [
        "LRModelList.append(tempLRModel3)"
      ]
    },
    {
      "cell_type": "code",
      "execution_count": null,
      "id": "-i5IAteoj3h2",
      "metadata": {
        "id": "-i5IAteoj3h2"
      },
      "outputs": [],
      "source": [
        "tempLRModel4 = LogisticRegression(\n",
        "            penalty='l2', solver='liblinear', C = 10\n",
        "        )\n",
        "\n",
        "tempLRModel4.fit(X_tr,y_tr)\n",
        "\n",
        "# LRModelList.append(tempLRModel4)"
      ]
    },
    {
      "cell_type": "code",
      "execution_count": null,
      "id": "pG66YcvVj3NI",
      "metadata": {
        "id": "pG66YcvVj3NI"
      },
      "outputs": [],
      "source": [
        "LRModelList.append(tempLRModel4)"
      ]
    },
    {
      "cell_type": "code",
      "execution_count": null,
      "id": "BkSx-5nKj5V_",
      "metadata": {
        "id": "BkSx-5nKj5V_"
      },
      "outputs": [],
      "source": [
        "tempLRModel5 = LogisticRegression(\n",
        "            penalty='l2', solver='liblinear', C = 100\n",
        "        )\n",
        "\n",
        "tempLRModel5.fit(X_tr,y_tr)\n",
        "\n",
        "LRModelList.append(tempLRModel5)"
      ]
    },
    {
      "cell_type": "code",
      "execution_count": null,
      "id": "qts1w8vQj5A0",
      "metadata": {
        "id": "qts1w8vQj5A0"
      },
      "outputs": [],
      "source": [
        "LRModelList.append(tempLRModel5)"
      ]
    },
    {
      "cell_type": "code",
      "execution_count": 16,
      "id": "2dt52IZMhSu8",
      "metadata": {
        "colab": {
          "base_uri": "https://localhost:8080/"
        },
        "id": "2dt52IZMhSu8",
        "outputId": "3cead724-79e0-424d-ccc3-0bb381ab1a1a"
      },
      "outputs": [
        {
          "name": "stdout",
          "output_type": "stream",
          "text": [
            "1\n"
          ]
        }
      ],
      "source": [
        "print(len(LRModelList))"
      ]
    },
    {
      "cell_type": "code",
      "execution_count": null,
      "id": "dcc9be56-789e-4b00-b703-e41f1acdf88b",
      "metadata": {
        "colab": {
          "base_uri": "https://localhost:8080/",
          "height": 141
        },
        "id": "dcc9be56-789e-4b00-b703-e41f1acdf88b",
        "outputId": "e25b9aff-15e8-41b7-9137-10531059def8"
      },
      "outputs": [
        {
          "ename": "NameError",
          "evalue": "name 'HUoutput' is not defined",
          "output_type": "error",
          "traceback": [
            "\u001b[0;31m---------------------------------------------------------------------------\u001b[0m",
            "\u001b[0;31mNameError\u001b[0m                                 Traceback (most recent call last)",
            "\u001b[0;32m<ipython-input-39-2faa96482abf>\u001b[0m in \u001b[0;36m<cell line: 1>\u001b[0;34m()\u001b[0m\n\u001b[0;32m----> 1\u001b[0;31m \u001b[0mHUoutput\u001b[0m\u001b[0;34m.\u001b[0m\u001b[0mshow\u001b[0m\u001b[0;34m(\u001b[0m\u001b[0;34m)\u001b[0m\u001b[0;34m\u001b[0m\u001b[0;34m\u001b[0m\u001b[0m\n\u001b[0m",
            "\u001b[0;31mNameError\u001b[0m: name 'HUoutput' is not defined"
          ]
        }
      ],
      "source": [
        "# HUoutput.show()"
      ]
    },
    {
      "cell_type": "code",
      "execution_count": null,
      "id": "27e5ff7e-dd0f-4e53-9018-426e2044514f",
      "metadata": {
        "id": "27e5ff7e-dd0f-4e53-9018-426e2044514f"
      },
      "outputs": [],
      "source": [
        "for amodel in LRModelList:\n",
        "    tempModTrainAcc = accuracy_score(amodel.predict(X_tr),y_tr)\n",
        "    tempModTestAcc = accuracy_score(amodel.predict(X_test),y_test)\n",
        "\n",
        "    print(f\"The Train ACC: {tempModTrainAcc} Test ACC: {tempModTestAcc}\")"
      ]
    }
  ],
  "metadata": {
    "colab": {
      "provenance": []
    },
    "kernelspec": {
      "display_name": "Python 3 (ipykernel)",
      "language": "python",
      "name": "python3"
    },
    "language_info": {
      "codemirror_mode": {
        "name": "ipython",
        "version": 3
      },
      "file_extension": ".py",
      "mimetype": "text/x-python",
      "name": "python",
      "nbconvert_exporter": "python",
      "pygments_lexer": "ipython3",
      "version": "3.11.4"
    }
  },
  "nbformat": 4,
  "nbformat_minor": 5
}
